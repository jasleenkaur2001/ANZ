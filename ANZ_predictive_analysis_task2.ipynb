{
  "nbformat": 4,
  "nbformat_minor": 0,
  "metadata": {
    "colab": {
      "name": "ANZ_predictive_analysis_task2.ipynb",
      "provenance": [],
      "collapsed_sections": [],
      "include_colab_link": true
    },
    "kernelspec": {
      "name": "python3",
      "display_name": "Python 3"
    },
    "language_info": {
      "name": "python"
    },
    "accelerator": "GPU"
  },
  "cells": [
    {
      "cell_type": "markdown",
      "metadata": {
        "id": "view-in-github",
        "colab_type": "text"
      },
      "source": [
        "<a href=\"https://colab.research.google.com/github/jasleenkaur2001/ANZ/blob/main/ANZ_predictive_analysis_task2.ipynb\" target=\"_parent\"><img src=\"https://colab.research.google.com/assets/colab-badge.svg\" alt=\"Open In Colab\"/></a>"
      ]
    },
    {
      "cell_type": "code",
      "metadata": {
        "id": "iLt6wfxQdc5b"
      },
      "source": [
        "import numpy as np \n",
        "import pandas as pd \n",
        "import seaborn as sns\n",
        "from sklearn.model_selection import train_test_split\n",
        "from sklearn.ensemble import RandomForestRegressor\n",
        "from sklearn.linear_model import LinearRegression\n",
        "from sklearn.metrics import mean_absolute_error\n",
        "from sklearn import tree\n",
        "from matplotlib import pyplot as plt\n",
        "from scipy.stats import spearmanr\n",
        "from sklearn.preprocessing import StandardScaler\n",
        "import keras\n",
        "from keras.models import Sequential\n",
        "from keras.layers import Dense\n",
        "from keras.wrappers.scikit_learn import KerasClassifier\n",
        "from sklearn.model_selection import cross_val_score"
      ],
      "execution_count": 1,
      "outputs": []
    },
    {
      "cell_type": "code",
      "metadata": {
        "id": "E7gGkH6-gn3p"
      },
      "source": [
        "dataFrame = pd.read_excel(\"/content/ANZ synthesised transaction dataset task2.xlsx\")"
      ],
      "execution_count": 2,
      "outputs": []
    },
    {
      "cell_type": "code",
      "metadata": {
        "colab": {
          "base_uri": "https://localhost:8080/",
          "height": 530
        },
        "id": "0PhBzEvKhBq_",
        "outputId": "9bc74b12-d438-42f5-b705-7154afb89cc8"
      },
      "source": [
        "dataFrame.head()"
      ],
      "execution_count": 3,
      "outputs": [
        {
          "output_type": "execute_result",
          "data": {
            "text/html": [
              "\n",
              "  <div id=\"df-1bc1ec90-3e66-4999-bdbc-b7fec73f9ded\">\n",
              "    <div class=\"colab-df-container\">\n",
              "      <div>\n",
              "<style scoped>\n",
              "    .dataframe tbody tr th:only-of-type {\n",
              "        vertical-align: middle;\n",
              "    }\n",
              "\n",
              "    .dataframe tbody tr th {\n",
              "        vertical-align: top;\n",
              "    }\n",
              "\n",
              "    .dataframe thead th {\n",
              "        text-align: right;\n",
              "    }\n",
              "</style>\n",
              "<table border=\"1\" class=\"dataframe\">\n",
              "  <thead>\n",
              "    <tr style=\"text-align: right;\">\n",
              "      <th></th>\n",
              "      <th>status</th>\n",
              "      <th>card_present_flag</th>\n",
              "      <th>bpay_biller_code</th>\n",
              "      <th>account</th>\n",
              "      <th>currency</th>\n",
              "      <th>long_lat</th>\n",
              "      <th>txn_description</th>\n",
              "      <th>merchant_id</th>\n",
              "      <th>merchant_code</th>\n",
              "      <th>first_name</th>\n",
              "      <th>balance</th>\n",
              "      <th>date</th>\n",
              "      <th>gender</th>\n",
              "      <th>age</th>\n",
              "      <th>merchant_suburb</th>\n",
              "      <th>merchant_state</th>\n",
              "      <th>extraction</th>\n",
              "      <th>amount</th>\n",
              "      <th>transaction_id</th>\n",
              "      <th>country</th>\n",
              "      <th>customer_id</th>\n",
              "      <th>merchant_long_lat</th>\n",
              "      <th>movement</th>\n",
              "    </tr>\n",
              "  </thead>\n",
              "  <tbody>\n",
              "    <tr>\n",
              "      <th>0</th>\n",
              "      <td>authorized</td>\n",
              "      <td>1.0</td>\n",
              "      <td>NaN</td>\n",
              "      <td>ACC-1598451071</td>\n",
              "      <td>AUD</td>\n",
              "      <td>153.41 -27.95</td>\n",
              "      <td>POS</td>\n",
              "      <td>81c48296-73be-44a7-befa-d053f48ce7cd</td>\n",
              "      <td>NaN</td>\n",
              "      <td>Diana</td>\n",
              "      <td>35.39</td>\n",
              "      <td>2018-08-01</td>\n",
              "      <td>F</td>\n",
              "      <td>26</td>\n",
              "      <td>Ashmore</td>\n",
              "      <td>QLD</td>\n",
              "      <td>2018-08-01T01:01:15.000+0000</td>\n",
              "      <td>16.25</td>\n",
              "      <td>a623070bfead4541a6b0fff8a09e706c</td>\n",
              "      <td>Australia</td>\n",
              "      <td>CUS-2487424745</td>\n",
              "      <td>153.38 -27.99</td>\n",
              "      <td>debit</td>\n",
              "    </tr>\n",
              "    <tr>\n",
              "      <th>1</th>\n",
              "      <td>authorized</td>\n",
              "      <td>0.0</td>\n",
              "      <td>NaN</td>\n",
              "      <td>ACC-1598451071</td>\n",
              "      <td>AUD</td>\n",
              "      <td>153.41 -27.95</td>\n",
              "      <td>SALES-POS</td>\n",
              "      <td>830a451c-316e-4a6a-bf25-e37caedca49e</td>\n",
              "      <td>NaN</td>\n",
              "      <td>Diana</td>\n",
              "      <td>21.20</td>\n",
              "      <td>2018-08-01</td>\n",
              "      <td>F</td>\n",
              "      <td>26</td>\n",
              "      <td>Sydney</td>\n",
              "      <td>NSW</td>\n",
              "      <td>2018-08-01T01:13:45.000+0000</td>\n",
              "      <td>14.19</td>\n",
              "      <td>13270a2a902145da9db4c951e04b51b9</td>\n",
              "      <td>Australia</td>\n",
              "      <td>CUS-2487424745</td>\n",
              "      <td>151.21 -33.87</td>\n",
              "      <td>debit</td>\n",
              "    </tr>\n",
              "    <tr>\n",
              "      <th>2</th>\n",
              "      <td>authorized</td>\n",
              "      <td>1.0</td>\n",
              "      <td>NaN</td>\n",
              "      <td>ACC-1222300524</td>\n",
              "      <td>AUD</td>\n",
              "      <td>151.23 -33.94</td>\n",
              "      <td>POS</td>\n",
              "      <td>835c231d-8cdf-4e96-859d-e9d571760cf0</td>\n",
              "      <td>NaN</td>\n",
              "      <td>Michael</td>\n",
              "      <td>5.71</td>\n",
              "      <td>2018-08-01</td>\n",
              "      <td>M</td>\n",
              "      <td>38</td>\n",
              "      <td>Sydney</td>\n",
              "      <td>NSW</td>\n",
              "      <td>2018-08-01T01:26:15.000+0000</td>\n",
              "      <td>6.42</td>\n",
              "      <td>feb79e7ecd7048a5a36ec889d1a94270</td>\n",
              "      <td>Australia</td>\n",
              "      <td>CUS-2142601169</td>\n",
              "      <td>151.21 -33.87</td>\n",
              "      <td>debit</td>\n",
              "    </tr>\n",
              "    <tr>\n",
              "      <th>3</th>\n",
              "      <td>authorized</td>\n",
              "      <td>1.0</td>\n",
              "      <td>NaN</td>\n",
              "      <td>ACC-1037050564</td>\n",
              "      <td>AUD</td>\n",
              "      <td>153.10 -27.66</td>\n",
              "      <td>SALES-POS</td>\n",
              "      <td>48514682-c78a-4a88-b0da-2d6302e64673</td>\n",
              "      <td>NaN</td>\n",
              "      <td>Rhonda</td>\n",
              "      <td>2117.22</td>\n",
              "      <td>2018-08-01</td>\n",
              "      <td>F</td>\n",
              "      <td>40</td>\n",
              "      <td>Buderim</td>\n",
              "      <td>QLD</td>\n",
              "      <td>2018-08-01T01:38:45.000+0000</td>\n",
              "      <td>40.90</td>\n",
              "      <td>2698170da3704fd981b15e64a006079e</td>\n",
              "      <td>Australia</td>\n",
              "      <td>CUS-1614226872</td>\n",
              "      <td>153.05 -26.68</td>\n",
              "      <td>debit</td>\n",
              "    </tr>\n",
              "    <tr>\n",
              "      <th>4</th>\n",
              "      <td>authorized</td>\n",
              "      <td>1.0</td>\n",
              "      <td>NaN</td>\n",
              "      <td>ACC-1598451071</td>\n",
              "      <td>AUD</td>\n",
              "      <td>153.41 -27.95</td>\n",
              "      <td>SALES-POS</td>\n",
              "      <td>b4e02c10-0852-4273-b8fd-7b3395e32eb0</td>\n",
              "      <td>NaN</td>\n",
              "      <td>Diana</td>\n",
              "      <td>17.95</td>\n",
              "      <td>2018-08-01</td>\n",
              "      <td>F</td>\n",
              "      <td>26</td>\n",
              "      <td>Mermaid Beach</td>\n",
              "      <td>QLD</td>\n",
              "      <td>2018-08-01T01:51:15.000+0000</td>\n",
              "      <td>3.25</td>\n",
              "      <td>329adf79878c4cf0aeb4188b4691c266</td>\n",
              "      <td>Australia</td>\n",
              "      <td>CUS-2487424745</td>\n",
              "      <td>153.44 -28.06</td>\n",
              "      <td>debit</td>\n",
              "    </tr>\n",
              "  </tbody>\n",
              "</table>\n",
              "</div>\n",
              "      <button class=\"colab-df-convert\" onclick=\"convertToInteractive('df-1bc1ec90-3e66-4999-bdbc-b7fec73f9ded')\"\n",
              "              title=\"Convert this dataframe to an interactive table.\"\n",
              "              style=\"display:none;\">\n",
              "        \n",
              "  <svg xmlns=\"http://www.w3.org/2000/svg\" height=\"24px\"viewBox=\"0 0 24 24\"\n",
              "       width=\"24px\">\n",
              "    <path d=\"M0 0h24v24H0V0z\" fill=\"none\"/>\n",
              "    <path d=\"M18.56 5.44l.94 2.06.94-2.06 2.06-.94-2.06-.94-.94-2.06-.94 2.06-2.06.94zm-11 1L8.5 8.5l.94-2.06 2.06-.94-2.06-.94L8.5 2.5l-.94 2.06-2.06.94zm10 10l.94 2.06.94-2.06 2.06-.94-2.06-.94-.94-2.06-.94 2.06-2.06.94z\"/><path d=\"M17.41 7.96l-1.37-1.37c-.4-.4-.92-.59-1.43-.59-.52 0-1.04.2-1.43.59L10.3 9.45l-7.72 7.72c-.78.78-.78 2.05 0 2.83L4 21.41c.39.39.9.59 1.41.59.51 0 1.02-.2 1.41-.59l7.78-7.78 2.81-2.81c.8-.78.8-2.07 0-2.86zM5.41 20L4 18.59l7.72-7.72 1.47 1.35L5.41 20z\"/>\n",
              "  </svg>\n",
              "      </button>\n",
              "      \n",
              "  <style>\n",
              "    .colab-df-container {\n",
              "      display:flex;\n",
              "      flex-wrap:wrap;\n",
              "      gap: 12px;\n",
              "    }\n",
              "\n",
              "    .colab-df-convert {\n",
              "      background-color: #E8F0FE;\n",
              "      border: none;\n",
              "      border-radius: 50%;\n",
              "      cursor: pointer;\n",
              "      display: none;\n",
              "      fill: #1967D2;\n",
              "      height: 32px;\n",
              "      padding: 0 0 0 0;\n",
              "      width: 32px;\n",
              "    }\n",
              "\n",
              "    .colab-df-convert:hover {\n",
              "      background-color: #E2EBFA;\n",
              "      box-shadow: 0px 1px 2px rgba(60, 64, 67, 0.3), 0px 1px 3px 1px rgba(60, 64, 67, 0.15);\n",
              "      fill: #174EA6;\n",
              "    }\n",
              "\n",
              "    [theme=dark] .colab-df-convert {\n",
              "      background-color: #3B4455;\n",
              "      fill: #D2E3FC;\n",
              "    }\n",
              "\n",
              "    [theme=dark] .colab-df-convert:hover {\n",
              "      background-color: #434B5C;\n",
              "      box-shadow: 0px 1px 3px 1px rgba(0, 0, 0, 0.15);\n",
              "      filter: drop-shadow(0px 1px 2px rgba(0, 0, 0, 0.3));\n",
              "      fill: #FFFFFF;\n",
              "    }\n",
              "  </style>\n",
              "\n",
              "      <script>\n",
              "        const buttonEl =\n",
              "          document.querySelector('#df-1bc1ec90-3e66-4999-bdbc-b7fec73f9ded button.colab-df-convert');\n",
              "        buttonEl.style.display =\n",
              "          google.colab.kernel.accessAllowed ? 'block' : 'none';\n",
              "\n",
              "        async function convertToInteractive(key) {\n",
              "          const element = document.querySelector('#df-1bc1ec90-3e66-4999-bdbc-b7fec73f9ded');\n",
              "          const dataTable =\n",
              "            await google.colab.kernel.invokeFunction('convertToInteractive',\n",
              "                                                     [key], {});\n",
              "          if (!dataTable) return;\n",
              "\n",
              "          const docLinkHtml = 'Like what you see? Visit the ' +\n",
              "            '<a target=\"_blank\" href=https://colab.research.google.com/notebooks/data_table.ipynb>data table notebook</a>'\n",
              "            + ' to learn more about interactive tables.';\n",
              "          element.innerHTML = '';\n",
              "          dataTable['output_type'] = 'display_data';\n",
              "          await google.colab.output.renderOutput(dataTable, element);\n",
              "          const docLink = document.createElement('div');\n",
              "          docLink.innerHTML = docLinkHtml;\n",
              "          element.appendChild(docLink);\n",
              "        }\n",
              "      </script>\n",
              "    </div>\n",
              "  </div>\n",
              "  "
            ],
            "text/plain": [
              "       status  card_present_flag  ... merchant_long_lat movement\n",
              "0  authorized                1.0  ...     153.38 -27.99    debit\n",
              "1  authorized                0.0  ...     151.21 -33.87    debit\n",
              "2  authorized                1.0  ...     151.21 -33.87    debit\n",
              "3  authorized                1.0  ...     153.05 -26.68    debit\n",
              "4  authorized                1.0  ...     153.44 -28.06    debit\n",
              "\n",
              "[5 rows x 23 columns]"
            ]
          },
          "metadata": {},
          "execution_count": 3
        }
      ]
    },
    {
      "cell_type": "code",
      "metadata": {
        "colab": {
          "base_uri": "https://localhost:8080/"
        },
        "id": "Y5-QKXnSh2gt",
        "outputId": "8ec7b744-a3ee-4303-f7cc-c95acbba3fed"
      },
      "source": [
        "print(dataFrame.shape)"
      ],
      "execution_count": 4,
      "outputs": [
        {
          "output_type": "stream",
          "name": "stdout",
          "text": [
            "(12043, 23)\n"
          ]
        }
      ]
    },
    {
      "cell_type": "code",
      "metadata": {
        "colab": {
          "base_uri": "https://localhost:8080/"
        },
        "id": "a3QJ5dI-h7-y",
        "outputId": "28dd6df8-84df-47e7-e566-42d794824ad4"
      },
      "source": [
        "print(dataFrame.columns)"
      ],
      "execution_count": 5,
      "outputs": [
        {
          "output_type": "stream",
          "name": "stdout",
          "text": [
            "Index(['status', 'card_present_flag', 'bpay_biller_code', 'account',\n",
            "       'currency', 'long_lat', 'txn_description', 'merchant_id',\n",
            "       'merchant_code', 'first_name', 'balance', 'date', 'gender', 'age',\n",
            "       'merchant_suburb', 'merchant_state', 'extraction', 'amount',\n",
            "       'transaction_id', 'country', 'customer_id', 'merchant_long_lat',\n",
            "       'movement'],\n",
            "      dtype='object')\n"
          ]
        }
      ]
    },
    {
      "cell_type": "code",
      "metadata": {
        "colab": {
          "base_uri": "https://localhost:8080/"
        },
        "id": "v9tuTPSviFi4",
        "outputId": "3253e28f-7a73-43ae-f0d1-292c2c5f011d"
      },
      "source": [
        "dataFrame.info()"
      ],
      "execution_count": 6,
      "outputs": [
        {
          "output_type": "stream",
          "name": "stdout",
          "text": [
            "<class 'pandas.core.frame.DataFrame'>\n",
            "RangeIndex: 12043 entries, 0 to 12042\n",
            "Data columns (total 23 columns):\n",
            " #   Column             Non-Null Count  Dtype         \n",
            "---  ------             --------------  -----         \n",
            " 0   status             12043 non-null  object        \n",
            " 1   card_present_flag  7717 non-null   float64       \n",
            " 2   bpay_biller_code   885 non-null    object        \n",
            " 3   account            12043 non-null  object        \n",
            " 4   currency           12043 non-null  object        \n",
            " 5   long_lat           12043 non-null  object        \n",
            " 6   txn_description    12043 non-null  object        \n",
            " 7   merchant_id        7717 non-null   object        \n",
            " 8   merchant_code      883 non-null    float64       \n",
            " 9   first_name         12043 non-null  object        \n",
            " 10  balance            12043 non-null  float64       \n",
            " 11  date               12043 non-null  datetime64[ns]\n",
            " 12  gender             12043 non-null  object        \n",
            " 13  age                12043 non-null  int64         \n",
            " 14  merchant_suburb    7717 non-null   object        \n",
            " 15  merchant_state     7717 non-null   object        \n",
            " 16  extraction         12043 non-null  object        \n",
            " 17  amount             12043 non-null  float64       \n",
            " 18  transaction_id     12043 non-null  object        \n",
            " 19  country            12043 non-null  object        \n",
            " 20  customer_id        12043 non-null  object        \n",
            " 21  merchant_long_lat  7717 non-null   object        \n",
            " 22  movement           12043 non-null  object        \n",
            "dtypes: datetime64[ns](1), float64(4), int64(1), object(17)\n",
            "memory usage: 2.1+ MB\n"
          ]
        }
      ]
    },
    {
      "cell_type": "markdown",
      "metadata": {
        "id": "zYtGnK0E9NIB"
      },
      "source": [
        "Since most of the values in bpay_biller_code and  merchant_code are None therefore they can be dropped."
      ]
    },
    {
      "cell_type": "code",
      "metadata": {
        "id": "bDRXSg4GiOiR"
      },
      "source": [
        "dataFrame.drop(['bpay_biller_code', 'merchant_code'], axis=1, inplace=True)"
      ],
      "execution_count": 7,
      "outputs": []
    },
    {
      "cell_type": "code",
      "metadata": {
        "colab": {
          "base_uri": "https://localhost:8080/"
        },
        "id": "q9w0Cv5BiUB2",
        "outputId": "8bc15528-66bd-463b-80ae-30a8a054c706"
      },
      "source": [
        "dataFrame.nunique()"
      ],
      "execution_count": 8,
      "outputs": [
        {
          "output_type": "execute_result",
          "data": {
            "text/plain": [
              "status                   2\n",
              "card_present_flag        2\n",
              "account                100\n",
              "currency                 1\n",
              "long_lat               100\n",
              "txn_description          6\n",
              "merchant_id           5725\n",
              "first_name              80\n",
              "balance              12006\n",
              "date                    91\n",
              "gender                   2\n",
              "age                     33\n",
              "merchant_suburb       1609\n",
              "merchant_state           8\n",
              "extraction            9442\n",
              "amount                4457\n",
              "transaction_id       12043\n",
              "country                  1\n",
              "customer_id            100\n",
              "merchant_long_lat     2703\n",
              "movement                 2\n",
              "dtype: int64"
            ]
          },
          "metadata": {},
          "execution_count": 8
        }
      ]
    },
    {
      "cell_type": "markdown",
      "metadata": {
        "id": "1vPHqwy0ikMv"
      },
      "source": [
        "There is only one unique Currency and country so they can be dropped."
      ]
    },
    {
      "cell_type": "code",
      "metadata": {
        "id": "1BwZp8jPicMU"
      },
      "source": [
        "dataFrame.drop(['currency','country'],axis=1,inplace=True)"
      ],
      "execution_count": 9,
      "outputs": []
    },
    {
      "cell_type": "code",
      "metadata": {
        "colab": {
          "base_uri": "https://localhost:8080/"
        },
        "id": "17j8YSJ-ik0l",
        "outputId": "46fc9f12-3006-4a03-c12d-7aa145e5b78f"
      },
      "source": [
        "dataFrame.duplicated().sum() # Check for duplicacy the dataset"
      ],
      "execution_count": 10,
      "outputs": [
        {
          "output_type": "execute_result",
          "data": {
            "text/plain": [
              "0"
            ]
          },
          "metadata": {},
          "execution_count": 10
        }
      ]
    },
    {
      "cell_type": "code",
      "metadata": {
        "id": "IFSWge9sinWC"
      },
      "source": [
        "dataFrame['age_group']=pd.cut(dataFrame.age,[0,18,30,40,50,60,80],labels=['<18','18-30','30-40','40-50','50-60','>60'])\n",
        "# to categorize data on basis of age"
      ],
      "execution_count": 11,
      "outputs": []
    },
    {
      "cell_type": "code",
      "metadata": {
        "id": "YexTcJ5kiqJT"
      },
      "source": [
        "dataFrame.loc[:,['extraction','date']] = dataFrame.loc[:,['extraction','date']].apply(pd.to_datetime, errors='coerce')\n",
        "# to convert date time to utc format"
      ],
      "execution_count": 12,
      "outputs": []
    },
    {
      "cell_type": "code",
      "metadata": {
        "id": "H3xwTRneisqv"
      },
      "source": [
        "dataFrame['year'] = dataFrame['date'].dt.year\n",
        "dataFrame['month'] =dataFrame['date'].dt.month_name()\n",
        "dataFrame['day'] = dataFrame['date'].dt.day_name()\n",
        "dataFrame['hour']= dataFrame.extraction.dt.hour\n",
        "# split the date column into moths and days"
      ],
      "execution_count": 13,
      "outputs": []
    },
    {
      "cell_type": "code",
      "metadata": {
        "id": "j5O8J240iuOG"
      },
      "source": [
        "dataFrame.card_present_flag = dataFrame.card_present_flag.astype('Int64')"
      ],
      "execution_count": 14,
      "outputs": []
    },
    {
      "cell_type": "code",
      "metadata": {
        "id": "rcfWF4Riiw7P"
      },
      "source": [
        "ndataFrame = dataFrame[dataFrame['txn_description'] == 'PAY/SALARY']\n"
      ],
      "execution_count": 15,
      "outputs": []
    },
    {
      "cell_type": "code",
      "metadata": {
        "colab": {
          "base_uri": "https://localhost:8080/"
        },
        "id": "qfzvCL5rjjO0",
        "outputId": "b0e08e34-59d7-4e52-e94b-74a1f68e0e5c"
      },
      "source": [
        "ndataFrame.drop(['card_present_flag' ,'merchant_id','merchant_suburb', 'merchant_state' , 'merchant_long_lat' , 'year'],axis=1,inplace=True)"
      ],
      "execution_count": 16,
      "outputs": [
        {
          "output_type": "stream",
          "name": "stderr",
          "text": [
            "/usr/local/lib/python3.7/dist-packages/pandas/core/frame.py:4913: SettingWithCopyWarning: \n",
            "A value is trying to be set on a copy of a slice from a DataFrame\n",
            "\n",
            "See the caveats in the documentation: https://pandas.pydata.org/pandas-docs/stable/user_guide/indexing.html#returning-a-view-versus-a-copy\n",
            "  errors=errors,\n"
          ]
        }
      ]
    },
    {
      "cell_type": "code",
      "metadata": {
        "id": "jDDS6WkHkvm-"
      },
      "source": [
        "dataFrame2 = pd.DataFrame(ndataFrame.groupby(['account','first_name','gender','age','long_lat'], as_index=False)['amount'].agg('sum'))\n",
        "dataFrame2['annual_salary'] = 4 * dataFrame2['amount'] # as it is over 3 months"
      ],
      "execution_count": 17,
      "outputs": []
    },
    {
      "cell_type": "code",
      "metadata": {
        "id": "Z3q-KnyllW3C"
      },
      "source": [
        ""
      ],
      "execution_count": 17,
      "outputs": []
    },
    {
      "cell_type": "markdown",
      "metadata": {
        "id": "RyBDyz_tlkwf"
      },
      "source": [
        "# Checking Correlation "
      ]
    },
    {
      "cell_type": "code",
      "metadata": {
        "colab": {
          "base_uri": "https://localhost:8080/",
          "height": 638
        },
        "id": "Q2G-sx3mltpS",
        "outputId": "c5427a24-eb0d-4740-bf99-69b0d738c3f3"
      },
      "source": [
        "age_sal_corr, age_pv = spearmanr(dataFrame2['age'], dataFrame2['annual_salary'])\n",
        "print(age_sal_corr)\n",
        "plt.figure(figsize=(10,10))\n",
        "sns.scatterplot(x=dataFrame2['age'], y=dataFrame2['annual_salary'])\n",
        "plt.title('Annual Salary and Customer Age')\n",
        "plt.xlabel('Customer Age')\n",
        "plt.ylabel('Annual Salary')\n",
        "plt.show()"
      ],
      "execution_count": 18,
      "outputs": [
        {
          "output_type": "stream",
          "name": "stdout",
          "text": [
            "-0.05275093071189322\n"
          ]
        },
        {
          "output_type": "display_data",
          "data": {
            "image/png": "[encoded data removed]",
            "text/plain": [
              "<Figure size 720x720 with 1 Axes>"
            ]
          },
          "metadata": {
            "needs_background": "light"
          }
        }
      ]
    },
    {
      "cell_type": "code",
      "metadata": {
        "colab": {
          "base_uri": "https://localhost:8080/",
          "height": 638
        },
        "id": "3QQlweR6mWl3",
        "outputId": "729464fa-e229-4863-92e6-20a1deb425cb"
      },
      "source": [
        "male_dataFrame = dataFrame2[dataFrame2['gender'] == 'M']\n",
        "female_dataFrame = dataFrame2[dataFrame2['gender'] == 'F']\n",
        "male_sal_corr , male_pv = spearmanr(male_dataFrame['age'] , male_dataFrame['annual_salary'])\n",
        "print(male_sal_corr)\n",
        "plt.figure(figsize=(10,10))\n",
        "sns.scatterplot(x=male_dataFrame['age'], y=male_dataFrame['annual_salary'])\n",
        "plt.title('Annual Male Salary and Age')\n",
        "plt.xlabel('Male Age ')\n",
        "plt.ylabel('Male Annual Salary')\n",
        "plt.show()"
      ],
      "execution_count": 19,
      "outputs": [
        {
          "output_type": "stream",
          "name": "stdout",
          "text": [
            "0.00838481956717104\n"
          ]
        },
        {
          "output_type": "display_data",
          "data": {
            "image/png": "[encoded data removed]",
            "text/plain": [
              "<Figure size 720x720 with 1 Axes>"
            ]
          },
          "metadata": {
            "needs_background": "light"
          }
        }
      ]
    },
    {
      "cell_type": "code",
      "metadata": {
        "colab": {
          "base_uri": "https://localhost:8080/",
          "height": 638
        },
        "id": "BbDL9ZQjre-9",
        "outputId": "8932d9f6-0db2-475d-d00b-0ad26b3392eb"
      },
      "source": [
        "female_sal_corr , female_pv = spearmanr(female_dataFrame['age'] , female_dataFrame['annual_salary'])\n",
        "print(female_sal_corr)\n",
        "plt.figure(figsize=(10,10))\n",
        "sns.scatterplot(x=female_dataFrame['age'], y=female_dataFrame['annual_salary'])\n",
        "plt.title('Annual Female Salary and Age ')\n",
        "plt.xlabel('Female Age')\n",
        "plt.ylabel(' Female Annual Salary')\n",
        "plt.show()"
      ],
      "execution_count": 20,
      "outputs": [
        {
          "output_type": "stream",
          "name": "stdout",
          "text": [
            "-0.11390272460557464\n"
          ]
        },
        {
          "output_type": "display_data",
          "data": {
            "image/png": "[encoded data removed]",
            "text/plain": [
              "<Figure size 720x720 with 1 Axes>"
            ]
          },
          "metadata": {
            "needs_background": "light"
          }
        }
      ]
    },
    {
      "cell_type": "markdown",
      "metadata": {
        "id": "in0n6DSEr6Kt"
      },
      "source": [
        "Splitting dataset into 75% train and 25% test"
      ]
    },
    {
      "cell_type": "code",
      "metadata": {
        "id": "N4TozIBDrnYk"
      },
      "source": [
        "dataFrame = pd.get_dummies(dataFrame2, columns=['gender'])\n",
        "model_features = ['age','gender_F','gender_M']\n",
        "X = dataFrame[model_features]\n",
        "y = dataFrame['annual_salary']\n",
        "X_train, X_test, y_train, y_test = train_test_split(X,y, test_size=0.25, random_state=1)"
      ],
      "execution_count": 21,
      "outputs": []
    },
    {
      "cell_type": "code",
      "metadata": {
        "id": "lu4U_XPZxV6T"
      },
      "source": [
        "sc = StandardScaler()\n",
        "X_train = sc.fit_transform(X_train)\n",
        "X_test = sc.transform(X_test)"
      ],
      "execution_count": 22,
      "outputs": []
    },
    {
      "cell_type": "markdown",
      "metadata": {
        "id": "gyAfEksu-37x"
      },
      "source": [
        "Using Linear Regression"
      ]
    },
    {
      "cell_type": "code",
      "metadata": {
        "colab": {
          "base_uri": "https://localhost:8080/"
        },
        "id": "h5CJ2apysY1_",
        "outputId": "4645bcf1-8187-4397-fd2a-51e5eed8c201"
      },
      "source": [
        "model = LinearRegression()\n",
        "model.fit(X_train , y_train)\n",
        "y_predict = model.predict(X_test)\n",
        "Mean_Abs_error =  mean_absolute_error(y_test , y_predict)\n",
        "print(Mean_Abs_error)"
      ],
      "execution_count": 23,
      "outputs": [
        {
          "output_type": "stream",
          "name": "stdout",
          "text": [
            "24074.254025357008\n"
          ]
        }
      ]
    },
    {
      "cell_type": "markdown",
      "metadata": {
        "id": "k77YwQeytTI0"
      },
      "source": [
        "Using Decision Tree"
      ]
    },
    {
      "cell_type": "code",
      "metadata": {
        "colab": {
          "base_uri": "https://localhost:8080/"
        },
        "id": "2XLYJfHEtQps",
        "outputId": "6e7002b7-e878-4bcb-e814-42eab6b8feee"
      },
      "source": [
        "model = tree.DecisionTreeRegressor()\n",
        "model.fit(X_train , y_train)\n",
        "y_predict = model.predict(X_test)\n",
        "Mean_Abs_error =  mean_absolute_error(y_test , y_predict)\n",
        "print(Mean_Abs_error)"
      ],
      "execution_count": 24,
      "outputs": [
        {
          "output_type": "stream",
          "name": "stdout",
          "text": [
            "20981.59786666667\n"
          ]
        }
      ]
    },
    {
      "cell_type": "markdown",
      "metadata": {
        "id": "3r3TrkGauvO3"
      },
      "source": [
        "Using Random Forest"
      ]
    },
    {
      "cell_type": "code",
      "metadata": {
        "colab": {
          "base_uri": "https://localhost:8080/"
        },
        "id": "n-Mh3XyyuujZ",
        "outputId": "77ec39b1-8e51-491a-bc64-b1307c614668"
      },
      "source": [
        "model = RandomForestRegressor(random_state=1)\n",
        "model.fit(X_train , y_train)\n",
        "y_predict = model.predict(X_test)\n",
        "Mean_Abs_error =  mean_absolute_error(y_test , y_predict)\n",
        "print(Mean_Abs_error)"
      ],
      "execution_count": 25,
      "outputs": [
        {
          "output_type": "stream",
          "name": "stdout",
          "text": [
            "19832.136298501595\n"
          ]
        }
      ]
    },
    {
      "cell_type": "markdown",
      "metadata": {
        "id": "ASymEyCZ9e-W"
      },
      "source": [
        "Using Neural Network"
      ]
    },
    {
      "cell_type": "code",
      "metadata": {
        "colab": {
          "base_uri": "https://localhost:8080/"
        },
        "id": "NRqb_hu4wCs8",
        "outputId": "9be3b73d-777d-475b-fa64-a9ae7b444392"
      },
      "source": [
        "classifier = Sequential()\n",
        "classifier.add(Dense(9, kernel_initializer = \"uniform\",activation = \"relu\", input_dim=3))\n",
        "classifier.add(Dense(9, kernel_initializer = \"uniform\",activation = \"relu\"))\n",
        "classifier.add(Dense(9, kernel_initializer = \"uniform\",activation = \"linear\"))\n",
        "classifier.add(Dense(9, kernel_initializer = \"uniform\",activation = \"relu\"))\n",
        "classifier.add(Dense(9, kernel_initializer = \"uniform\",activation = \"linear\"))\n",
        "classifier.add(Dense(9, kernel_initializer = \"uniform\",activation = \"relu\"))\n",
        "classifier.add(Dense(9, kernel_initializer = \"uniform\",activation = \"linear\"))\n",
        "classifier.add(Dense(9, kernel_initializer = \"uniform\",activation = \"relu\"))\n",
        "classifier.add(Dense(9, kernel_initializer = \"uniform\",activation = \"linear\"))\n",
        "classifier.add(Dense(9, kernel_initializer = \"uniform\",activation = \"relu\"))\n",
        "classifier.add(Dense(9, kernel_initializer = \"uniform\",activation = \"linear\"))\n",
        "classifier.add(Dense(9, kernel_initializer = \"uniform\",activation = \"relu\"))\n",
        "classifier.add(Dense(9, kernel_initializer = \"uniform\",activation = \"linear\"))\n",
        "classifier.add(Dense(9, kernel_initializer = \"uniform\",activation = \"relu\"))\n",
        "classifier.add(Dense(1, kernel_initializer = \"uniform\",activation = \"linear\"))\n",
        "\n",
        "classifier.compile(optimizer= \"adam\",loss = \"mean_squared_error\",metrics = [\"accuracy\"])\n",
        "classifier.fit(X_train, y_train, batch_size = 8, epochs = 10)\n",
        "y_pred = classifier.predict(X_test)\n",
        "Mean_Abs_error =  mean_absolute_error(y_test , y_predict)\n",
        "print(Mean_Abs_error)\n"
      ],
      "execution_count": 26,
      "outputs": [
        {
          "output_type": "stream",
          "name": "stdout",
          "text": [
            "Epoch 1/10\n",
            "10/10 [==============================] - 5s 9ms/step - loss: 5099978752.0000 - accuracy: 0.0000e+00\n",
            "Epoch 2/10\n",
            "10/10 [==============================] - 0s 10ms/step - loss: 5099977216.0000 - accuracy: 0.0000e+00\n",
            "Epoch 3/10\n",
            "10/10 [==============================] - 0s 10ms/step - loss: 5099974144.0000 - accuracy: 0.0000e+00\n",
            "Epoch 4/10\n",
            "10/10 [==============================] - 0s 8ms/step - loss: 5099972608.0000 - accuracy: 0.0000e+00\n",
            "Epoch 5/10\n",
            "10/10 [==============================] - 0s 12ms/step - loss: 5099968512.0000 - accuracy: 0.0000e+00\n",
            "Epoch 6/10\n",
            "10/10 [==============================] - 0s 14ms/step - loss: 5099963392.0000 - accuracy: 0.0000e+00\n",
            "Epoch 7/10\n",
            "10/10 [==============================] - 0s 13ms/step - loss: 5099955200.0000 - accuracy: 0.0000e+00\n",
            "Epoch 8/10\n",
            "10/10 [==============================] - 0s 8ms/step - loss: 5099940864.0000 - accuracy: 0.0000e+00\n",
            "Epoch 9/10\n",
            "10/10 [==============================] - 0s 10ms/step - loss: 5099912704.0000 - accuracy: 0.0000e+00\n",
            "Epoch 10/10\n",
            "10/10 [==============================] - 0s 13ms/step - loss: 5099856896.0000 - accuracy: 0.0000e+00\n",
            "19832.136298501595\n"
          ]
        }
      ]
    },
    {
      "cell_type": "code",
      "metadata": {
        "id": "akKiLO2KC_la"
      },
      "source": [
        ""
      ],
      "execution_count": 26,
      "outputs": []
    },
    {
      "cell_type": "markdown",
      "metadata": {
        "id": "mPEC1mrY-Bgn"
      },
      "source": [
        "**All Observations :**\n",
        "* Using Spearman's co-relation method for determining corelation between age, gender with salary we found :\n",
        "  *  Age has a weak negative correlation\n",
        "  *  Men earn more when they grow older, and women earn more when they are younger.\n",
        "  *  Annual salary and age of male customers indicates a weak positive correlation whereas annual salary and age of female customers indicates a weak negative correlation.\n",
        "* Using various predictive Model with following features:\n",
        "  * Data Set Used: Training(75%), Testing(25%)\n",
        "  * Features Used: Age, Gender(M/F)\n",
        "  * Prediction Target: Annual Salary\n",
        "  * Model Evaluation Metric Used: Mean Absolute Erro\n",
        "* **Linear Regression model**\n",
        "  * It was the simplest regression model used and showed a Absolute Mean error of 24074.25 AUD\n",
        "* **Decision Tree Regression model**\n",
        "  * It was better that the Linear Regression Model and showed a Absolute Mean error of 20981.59 AUD\n",
        "* **Random Forest Regression Model**\n",
        "  *  It was the best among the three with a Absolute Mean error of 19832.13 AUD\n",
        "* **Keras Sequential Model**\n",
        "  * It gave the same result as Random Forest Model with a Absolute Mean error of 19832.13 AUD\n",
        "\n",
        "The task at hand also focused on predicting annual customer salaries in which Random forset and Sequential Model worked equally best.\n",
        "\n",
        "I believe that with more data, and advanced regression models, ANZ can be able to use this strategy to segment customers for reporting purposes, and possibly for targeted marketing as well.\n",
        "I was unable to harness the potential of City where the person is located but with a team and better regression models , one can relate the cities with salaries and predict which cities give better salary.\n",
        "\n",
        "The use of the Mean Absolute Error as the evaluation metric for model accuracy is effective in showing a finite value and allows people to have a weighted perspective on the model's performance.\n",
        "\n",
        "\n"
      ]
    }
  ]
}